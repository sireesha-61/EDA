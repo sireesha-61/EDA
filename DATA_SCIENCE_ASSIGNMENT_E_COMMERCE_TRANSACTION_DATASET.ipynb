{
  "nbformat": 4,
  "nbformat_minor": 0,
  "metadata": {
    "colab": {
      "provenance": []
    },
    "kernelspec": {
      "name": "python3",
      "display_name": "Python 3"
    },
    "language_info": {
      "name": "python"
    }
  },
  "cells": [
    {
      "cell_type": "markdown",
      "source": [
        "LOADED THE DATA INTO PYTHON(Using pandas)"
      ],
      "metadata": {
        "id": "cJ1Xq6IN3nQ5"
      }
    },
    {
      "cell_type": "code",
      "execution_count": 5,
      "metadata": {
        "colab": {
          "base_uri": "https://localhost:8080/"
        },
        "id": "X7rLfo4I1MC8",
        "outputId": "c68d3ba7-02cc-40fc-bdd6-0523914a2a55"
      },
      "outputs": [
        {
          "output_type": "stream",
          "name": "stdout",
          "text": [
            "Customers Dataset:\n",
            "  CustomerID        CustomerName         Region  SignupDate\n",
            "0      C0001    Lawrence Carroll  South America  2022-07-10\n",
            "1      C0002      Elizabeth Lutz           Asia  2022-02-13\n",
            "2      C0003      Michael Rivera  South America  2024-03-07\n",
            "3      C0004  Kathleen Rodriguez  South America  2022-10-09\n",
            "4      C0005         Laura Weber           Asia  2022-08-15\n",
            "\n",
            "Products Dataset:\n",
            "  ProductID              ProductName     Category   Price\n",
            "0      P001     ActiveWear Biography        Books  169.30\n",
            "1      P002    ActiveWear Smartwatch  Electronics  346.30\n",
            "2      P003  ComfortLiving Biography        Books   44.12\n",
            "3      P004            BookWorld Rug   Home Decor   95.69\n",
            "4      P005          TechPro T-Shirt     Clothing  429.31\n",
            "\n",
            "Transactions Dataset:\n",
            "  TransactionID CustomerID ProductID      TransactionDate  Quantity  \\\n",
            "0        T00001      C0199      P067  2024-08-25 12:38:23         1   \n",
            "1        T00112      C0146      P067  2024-05-27 22:23:54         1   \n",
            "2        T00166      C0127      P067  2024-04-25 07:38:55         1   \n",
            "3        T00272      C0087      P067  2024-03-26 22:55:37         2   \n",
            "4        T00363      C0070      P067  2024-03-21 15:10:10         3   \n",
            "\n",
            "   TotalValue   Price  \n",
            "0      300.68  300.68  \n",
            "1      300.68  300.68  \n",
            "2      300.68  300.68  \n",
            "3      601.36  300.68  \n",
            "4      902.04  300.68  \n"
          ]
        }
      ],
      "source": [
        "import pandas as pd\n",
        "customers = pd.read_csv('/Customers.csv')\n",
        "products = pd.read_csv('/Products.csv')\n",
        "transactions = pd.read_csv('/Transactions.csv')\n",
        "\n",
        "print(\"Customers Dataset:\")\n",
        "print(customers.head())\n",
        "\n",
        "print(\"\\nProducts Dataset:\")\n",
        "print(products.head())\n",
        "\n",
        "print(\"\\nTransactions Dataset:\")\n",
        "print(transactions.head())"
      ]
    },
    {
      "cell_type": "code",
      "source": [
        "print(\"Customers Info:\")\n",
        "print(customers.info())\n",
        "print(\"\\nProducts Info:\")\n",
        "print(products.info())\n",
        "print(\"\\nTransactions Info:\")\n",
        "print(transactions.info())\n",
        "\n",
        "print(\"\\nTransactions Summary:\")\n",
        "print(transactions.describe())"
      ],
      "metadata": {
        "colab": {
          "base_uri": "https://localhost:8080/"
        },
        "id": "_TSSuMPr2GCT",
        "outputId": "0a60f0fc-2f65-41b1-9354-df62a77282ea"
      },
      "execution_count": 6,
      "outputs": [
        {
          "output_type": "stream",
          "name": "stdout",
          "text": [
            "Customers Info:\n",
            "<class 'pandas.core.frame.DataFrame'>\n",
            "RangeIndex: 200 entries, 0 to 199\n",
            "Data columns (total 4 columns):\n",
            " #   Column        Non-Null Count  Dtype \n",
            "---  ------        --------------  ----- \n",
            " 0   CustomerID    200 non-null    object\n",
            " 1   CustomerName  200 non-null    object\n",
            " 2   Region        200 non-null    object\n",
            " 3   SignupDate    200 non-null    object\n",
            "dtypes: object(4)\n",
            "memory usage: 6.4+ KB\n",
            "None\n",
            "\n",
            "Products Info:\n",
            "<class 'pandas.core.frame.DataFrame'>\n",
            "RangeIndex: 100 entries, 0 to 99\n",
            "Data columns (total 4 columns):\n",
            " #   Column       Non-Null Count  Dtype  \n",
            "---  ------       --------------  -----  \n",
            " 0   ProductID    100 non-null    object \n",
            " 1   ProductName  100 non-null    object \n",
            " 2   Category     100 non-null    object \n",
            " 3   Price        100 non-null    float64\n",
            "dtypes: float64(1), object(3)\n",
            "memory usage: 3.3+ KB\n",
            "None\n",
            "\n",
            "Transactions Info:\n",
            "<class 'pandas.core.frame.DataFrame'>\n",
            "RangeIndex: 1000 entries, 0 to 999\n",
            "Data columns (total 7 columns):\n",
            " #   Column           Non-Null Count  Dtype  \n",
            "---  ------           --------------  -----  \n",
            " 0   TransactionID    1000 non-null   object \n",
            " 1   CustomerID       1000 non-null   object \n",
            " 2   ProductID        1000 non-null   object \n",
            " 3   TransactionDate  1000 non-null   object \n",
            " 4   Quantity         1000 non-null   int64  \n",
            " 5   TotalValue       1000 non-null   float64\n",
            " 6   Price            1000 non-null   float64\n",
            "dtypes: float64(2), int64(1), object(4)\n",
            "memory usage: 54.8+ KB\n",
            "None\n",
            "\n",
            "Transactions Summary:\n",
            "          Quantity   TotalValue       Price\n",
            "count  1000.000000  1000.000000  1000.00000\n",
            "mean      2.537000   689.995560   272.55407\n",
            "std       1.117981   493.144478   140.73639\n",
            "min       1.000000    16.080000    16.08000\n",
            "25%       2.000000   295.295000   147.95000\n",
            "50%       3.000000   588.880000   299.93000\n",
            "75%       4.000000  1011.660000   404.40000\n",
            "max       4.000000  1991.040000   497.76000\n"
          ]
        }
      ]
    },
    {
      "cell_type": "code",
      "source": [
        "customer_transactions = transactions.merge(customers, on='CustomerID', how='inner')\n",
        "\n",
        "full_data = customer_transactions.merge(products, on='ProductID', how='inner')\n",
        "\n",
        "print(\"Merged Dataset Preview:\")\n",
        "print(full_data.head())"
      ],
      "metadata": {
        "colab": {
          "base_uri": "https://localhost:8080/"
        },
        "id": "RSAfggnj2U_V",
        "outputId": "4d33f1ed-176c-42bb-d37f-a4c76e2f43d7"
      },
      "execution_count": 7,
      "outputs": [
        {
          "output_type": "stream",
          "name": "stdout",
          "text": [
            "Merged Dataset Preview:\n",
            "  TransactionID CustomerID ProductID      TransactionDate  Quantity  \\\n",
            "0        T00001      C0199      P067  2024-08-25 12:38:23         1   \n",
            "1        T00112      C0146      P067  2024-05-27 22:23:54         1   \n",
            "2        T00166      C0127      P067  2024-04-25 07:38:55         1   \n",
            "3        T00272      C0087      P067  2024-03-26 22:55:37         2   \n",
            "4        T00363      C0070      P067  2024-03-21 15:10:10         3   \n",
            "\n",
            "   TotalValue  Price_x     CustomerName         Region  SignupDate  \\\n",
            "0      300.68   300.68   Andrea Jenkins         Europe  2022-12-03   \n",
            "1      300.68   300.68  Brittany Harvey           Asia  2024-09-04   \n",
            "2      300.68   300.68  Kathryn Stevens         Europe  2024-04-04   \n",
            "3      601.36   300.68  Travis Campbell  South America  2024-04-11   \n",
            "4      902.04   300.68    Timothy Perez         Europe  2022-03-15   \n",
            "\n",
            "                       ProductName     Category  Price_y  \n",
            "0  ComfortLiving Bluetooth Speaker  Electronics   300.68  \n",
            "1  ComfortLiving Bluetooth Speaker  Electronics   300.68  \n",
            "2  ComfortLiving Bluetooth Speaker  Electronics   300.68  \n",
            "3  ComfortLiving Bluetooth Speaker  Electronics   300.68  \n",
            "4  ComfortLiving Bluetooth Speaker  Electronics   300.68  \n"
          ]
        }
      ]
    },
    {
      "cell_type": "markdown",
      "source": [
        "CLEANING THE DATA"
      ],
      "metadata": {
        "id": "Ki7AdKN54IBv"
      }
    },
    {
      "cell_type": "code",
      "source": [
        "print(\"Missing values in each dataset:\")\n",
        "print(customers.isnull().sum())\n",
        "print(products.isnull().sum())\n",
        "print(transactions.isnull().sum())"
      ],
      "metadata": {
        "colab": {
          "base_uri": "https://localhost:8080/"
        },
        "id": "MwxoAZds2hjG",
        "outputId": "b518c653-9f42-4b4c-a562-98d37ed82148"
      },
      "execution_count": 8,
      "outputs": [
        {
          "output_type": "stream",
          "name": "stdout",
          "text": [
            "Missing values in each dataset:\n",
            "CustomerID      0\n",
            "CustomerName    0\n",
            "Region          0\n",
            "SignupDate      0\n",
            "dtype: int64\n",
            "ProductID      0\n",
            "ProductName    0\n",
            "Category       0\n",
            "Price          0\n",
            "dtype: int64\n",
            "TransactionID      0\n",
            "CustomerID         0\n",
            "ProductID          0\n",
            "TransactionDate    0\n",
            "Quantity           0\n",
            "TotalValue         0\n",
            "Price              0\n",
            "dtype: int64\n"
          ]
        }
      ]
    },
    {
      "cell_type": "code",
      "source": [
        "customers.fillna('Unknown', inplace=True)"
      ],
      "metadata": {
        "id": "1R0eL7hs2oTi"
      },
      "execution_count": 12,
      "outputs": []
    },
    {
      "cell_type": "code",
      "source": [
        "customers['SignupDate'] = pd.to_datetime(customers['SignupDate'])\n",
        "transactions['TransactionDate'] = pd.to_datetime(transactions['TransactionDate'])"
      ],
      "metadata": {
        "id": "Sux7MQB921mW"
      },
      "execution_count": 13,
      "outputs": []
    },
    {
      "cell_type": "markdown",
      "source": [
        "SAVED THE CLEANED DATA"
      ],
      "metadata": {
        "id": "6qQpL7Vt39Pa"
      }
    },
    {
      "cell_type": "code",
      "source": [
        "full_data.to_csv('Cleaned_Data.csv', index=False)"
      ],
      "metadata": {
        "id": "oHMZ8ZtV23Yf"
      },
      "execution_count": 14,
      "outputs": []
    }
  ]
}